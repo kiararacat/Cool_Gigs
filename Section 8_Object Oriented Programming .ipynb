{
 "cells": [
  {
   "cell_type": "code",
   "execution_count": 26,
   "id": "a0a8ceb6",
   "metadata": {},
   "outputs": [],
   "source": [
    "class Animal():\n",
    "    \n",
    "    def __init__ (self):\n",
    "        print ('Animal Created')\n",
    "        \n",
    "    def who_am_i(self):\n",
    "        print ('I am an animal')\n",
    "        \n",
    "    def eat(self):\n",
    "        print ('I am eating')"
   ]
  },
  {
   "cell_type": "code",
   "execution_count": 4,
   "id": "14646928",
   "metadata": {
    "scrolled": true
   },
   "outputs": [
    {
     "name": "stdout",
     "output_type": "stream",
     "text": [
      "Animal Created\n"
     ]
    }
   ],
   "source": [
    "myanimal=Animal()"
   ]
  },
  {
   "cell_type": "code",
   "execution_count": 25,
   "id": "5ea0e4e6",
   "metadata": {},
   "outputs": [],
   "source": [
    "class Dog(Animal): #Derive class, Dog class derived from Animal class\n",
    "    \n",
    "    def __init__ (self):\n",
    "        Animal.__init__(self)\n",
    "        print ('Dog created')\n",
    "  "
   ]
  },
  {
   "cell_type": "code",
   "execution_count": 27,
   "id": "8c64170f",
   "metadata": {},
   "outputs": [
    {
     "name": "stdout",
     "output_type": "stream",
     "text": [
      "Animal Created\n",
      "Dog created\n"
     ]
    }
   ],
   "source": [
    "mydog=Dog()"
   ]
  },
  {
   "cell_type": "code",
   "execution_count": 29,
   "id": "9dca6e21",
   "metadata": {},
   "outputs": [
    {
     "name": "stdout",
     "output_type": "stream",
     "text": [
      "I am eating\n"
     ]
    }
   ],
   "source": [
    "mydog.eat()"
   ]
  },
  {
   "cell_type": "code",
   "execution_count": 30,
   "id": "d4afe1e6",
   "metadata": {},
   "outputs": [
    {
     "name": "stdout",
     "output_type": "stream",
     "text": [
      "I am an animal\n"
     ]
    }
   ],
   "source": [
    "mydog.who_am_i()"
   ]
  },
  {
   "cell_type": "markdown",
   "id": "a9abf07c",
   "metadata": {},
   "source": [
    "## Polymorphism"
   ]
  },
  {
   "cell_type": "code",
   "execution_count": 39,
   "id": "94452e5f",
   "metadata": {},
   "outputs": [],
   "source": [
    "class Dog():\n",
    "    \n",
    "    def __init__ (self,name):\n",
    "        self.name=name\n",
    "    def speak(self):\n",
    "        return self.name+\" says woof!\""
   ]
  },
  {
   "cell_type": "code",
   "execution_count": 58,
   "id": "7e796d26",
   "metadata": {},
   "outputs": [],
   "source": [
    "class Cat():\n",
    "    \n",
    "    def __init__ (self,name):\n",
    "        self.name=name\n",
    "    def speak(self):\n",
    "        return self.name+\" says Meow!\""
   ]
  },
  {
   "cell_type": "code",
   "execution_count": 52,
   "id": "99d434e2",
   "metadata": {},
   "outputs": [],
   "source": [
    "niko = Dog(\"Niko\")\n",
    "felix = Cat(\"Felix\")"
   ]
  },
  {
   "cell_type": "code",
   "execution_count": 42,
   "id": "90985047",
   "metadata": {},
   "outputs": [
    {
     "name": "stdout",
     "output_type": "stream",
     "text": [
      "Niko says woof!\n"
     ]
    }
   ],
   "source": [
    "print(niko.speak())"
   ]
  },
  {
   "cell_type": "code",
   "execution_count": 45,
   "id": "e1fb684e",
   "metadata": {},
   "outputs": [
    {
     "name": "stdout",
     "output_type": "stream",
     "text": [
      "Felix says Meow!\n"
     ]
    }
   ],
   "source": [
    "print(felix.speak())"
   ]
  },
  {
   "cell_type": "code",
   "execution_count": 47,
   "id": "f3ea73f7",
   "metadata": {},
   "outputs": [
    {
     "name": "stdout",
     "output_type": "stream",
     "text": [
      "<class '__main__.Dog'>\n",
      "<class 'str'>\n",
      "<class '__main__.Cat'>\n",
      "<class 'str'>\n"
     ]
    }
   ],
   "source": [
    "for pet_class in [niko,felix]:\n",
    "    \n",
    "    print(type(pet_class))\n",
    "    print(type(pet_class.speak()))"
   ]
  },
  {
   "cell_type": "code",
   "execution_count": null,
   "id": "c2d0a26d",
   "metadata": {},
   "outputs": [],
   "source": [
    "# Create a function that returns your pet's attribute \n"
   ]
  },
  {
   "cell_type": "code",
   "execution_count": 72,
   "id": "a14dd5c1",
   "metadata": {},
   "outputs": [],
   "source": [
    "class Pet():\n",
    "    \n",
    "    animalclass='mammal'\n",
    "    \n",
    "    def __init__ (self,name,animal,breed,gender):\n",
    "        self.name=name\n",
    "        self.animal=animal\n",
    "        self.breed=breed\n",
    "        self.gender=gender\n",
    "    \n",
    "    def speak(self):\n",
    "        print ('my name is {}'.format(self.name))\n",
    "        \n",
    "   \n",
    "    "
   ]
  },
  {
   "cell_type": "code",
   "execution_count": 73,
   "id": "a8970e1b",
   "metadata": {},
   "outputs": [],
   "source": [
    "my_cat=Pet(name='Kiara',animal='cat',breed='Savannah',gender='girl')"
   ]
  },
  {
   "cell_type": "code",
   "execution_count": 76,
   "id": "3dfff0d5",
   "metadata": {},
   "outputs": [
    {
     "data": {
      "text/plain": [
       "3"
      ]
     },
     "execution_count": 76,
     "metadata": {},
     "output_type": "execute_result"
    }
   ],
   "source": [
    "mylist=[1,2,3]\n",
    "len(mylist)"
   ]
  },
  {
   "cell_type": "code",
   "execution_count": 77,
   "id": "677c97a8",
   "metadata": {},
   "outputs": [],
   "source": [
    "class Sample():\n",
    "    pass"
   ]
  },
  {
   "cell_type": "code",
   "execution_count": 78,
   "id": "83dbc640",
   "metadata": {},
   "outputs": [],
   "source": [
    "mysample=Sample()"
   ]
  },
  {
   "cell_type": "code",
   "execution_count": null,
   "id": "953b096f",
   "metadata": {},
   "outputs": [],
   "source": [
    "#Use built-in Python function to define my own user-defined objects \n",
    "#Special methods "
   ]
  },
  {
   "cell_type": "code",
   "execution_count": 1,
   "id": "184f76d1",
   "metadata": {},
   "outputs": [],
   "source": [
    "class Book:\n",
    "    def __init__(self, title, author, pages):\n",
    "        print(\"A book is created\")\n",
    "        self.title = title\n",
    "        self.author = author\n",
    "        self.pages = pages\n",
    "\n",
    "    def __str__(self):\n",
    "        return \"Title: %s, author: %s, pages: %s\" %(self.title, self.author, self.pages)\n",
    "\n",
    "    def __len__(self):\n",
    "        return self.pages\n",
    "\n",
    "    def __del__(self):\n",
    "        print(\"A book is destroyed\")"
   ]
  },
  {
   "cell_type": "code",
   "execution_count": 4,
   "id": "9da5a722",
   "metadata": {},
   "outputs": [
    {
     "name": "stdout",
     "output_type": "stream",
     "text": [
      "A book is created\n"
     ]
    }
   ],
   "source": [
    "b=Book('Python Rocks','Jose',180)"
   ]
  },
  {
   "cell_type": "code",
   "execution_count": 5,
   "id": "49436a3b",
   "metadata": {},
   "outputs": [
    {
     "name": "stdout",
     "output_type": "stream",
     "text": [
      "Title: Python Rocks, author: Jose, pages: 180\n"
     ]
    }
   ],
   "source": [
    "print(b)"
   ]
  },
  {
   "cell_type": "code",
   "execution_count": 6,
   "id": "6d50ad2a",
   "metadata": {},
   "outputs": [
    {
     "name": "stdout",
     "output_type": "stream",
     "text": [
      "180\n"
     ]
    }
   ],
   "source": [
    "print(len(b))"
   ]
  },
  {
   "cell_type": "code",
   "execution_count": 9,
   "id": "e0bd4338",
   "metadata": {},
   "outputs": [
    {
     "name": "stdout",
     "output_type": "stream",
     "text": [
      "A book is destroyed\n"
     ]
    }
   ],
   "source": [
    "del b"
   ]
  },
  {
   "cell_type": "code",
   "execution_count": 11,
   "id": "8ee65d1b",
   "metadata": {},
   "outputs": [
    {
     "name": "stdout",
     "output_type": "stream",
     "text": [
      "A book is created\n"
     ]
    }
   ],
   "source": [
    "b=Book('Python is great','Jose',180)"
   ]
  },
  {
   "cell_type": "code",
   "execution_count": 13,
   "id": "3f24d1e2",
   "metadata": {},
   "outputs": [],
   "source": [
    "## Fill in the Line class methods to accept coordinates as a pair of tuples and return the slope and distance of the line."
   ]
  },
  {
   "cell_type": "code",
   "execution_count": 17,
   "id": "98edf802",
   "metadata": {},
   "outputs": [],
   "source": [
    "class Line:\n",
    "    \n",
    "    def __init__(self,coor1,coor2):\n",
    "        self.coor1=coor1\n",
    "        self.coor2=coor2\n",
    "        \n",
    "    def distance(self):\n",
    "        x1,y1=self.coor1\n",
    "        x2,y2=self.coor2\n",
    "        return ((x2-x1)**2+(y2-y1)**2)**0.5\n",
    "    \n",
    "    def slope(self):\n",
    "        x1,y1=self.coor1\n",
    "        x2,y2=self.coor2\n",
    "        return (y2-y1)/(x2-x1)\n",
    "    \n",
    "    #Tuple Unpacking *important*\n",
    "        "
   ]
  },
  {
   "cell_type": "code",
   "execution_count": 18,
   "id": "e622465d",
   "metadata": {},
   "outputs": [],
   "source": [
    "c1=(3,2)\n",
    "c2=(8,10)"
   ]
  },
  {
   "cell_type": "code",
   "execution_count": 19,
   "id": "64784ec2",
   "metadata": {},
   "outputs": [],
   "source": [
    "myline = Line(c1,c2)"
   ]
  },
  {
   "cell_type": "code",
   "execution_count": 20,
   "id": "8846c1c2",
   "metadata": {},
   "outputs": [
    {
     "data": {
      "text/plain": [
       "9.433981132056603"
      ]
     },
     "execution_count": 20,
     "metadata": {},
     "output_type": "execute_result"
    }
   ],
   "source": [
    "myline.distance()"
   ]
  },
  {
   "cell_type": "code",
   "execution_count": 22,
   "id": "f63107c5",
   "metadata": {},
   "outputs": [
    {
     "data": {
      "text/plain": [
       "1.6"
      ]
     },
     "execution_count": 22,
     "metadata": {},
     "output_type": "execute_result"
    }
   ],
   "source": [
    "myline.slope()"
   ]
  },
  {
   "cell_type": "code",
   "execution_count": 29,
   "id": "90122679",
   "metadata": {},
   "outputs": [],
   "source": [
    "\n",
    "class Cylinder:\n",
    "    \n",
    "    \n",
    "    def __init__(self,height=1,radius=1):\n",
    "        self.height=height\n",
    "        self.radius=radius\n",
    "        \n",
    "    def volume(self):\n",
    "        pi=3.14\n",
    "        return pi*(self.radius**2)*self.height\n",
    "    \n",
    "    def surface_area(self):\n",
    "        pi=3.14\n",
    "        return 2*pi*self.radius*self.height+2*pi*(self.radius**2)            "
   ]
  },
  {
   "cell_type": "code",
   "execution_count": 30,
   "id": "cf39a466",
   "metadata": {},
   "outputs": [],
   "source": [
    "mycy=Cylinder(2,3)"
   ]
  },
  {
   "cell_type": "code",
   "execution_count": 31,
   "id": "ec2d47db",
   "metadata": {},
   "outputs": [
    {
     "data": {
      "text/plain": [
       "56.52"
      ]
     },
     "execution_count": 31,
     "metadata": {},
     "output_type": "execute_result"
    }
   ],
   "source": [
    "mycy.volume()"
   ]
  },
  {
   "cell_type": "code",
   "execution_count": 32,
   "id": "fb77fcef",
   "metadata": {},
   "outputs": [
    {
     "data": {
      "text/plain": [
       "94.2"
      ]
     },
     "execution_count": 32,
     "metadata": {},
     "output_type": "execute_result"
    }
   ],
   "source": [
    "mycy.surface_area()"
   ]
  },
  {
   "cell_type": "code",
   "execution_count": null,
   "id": "548db930",
   "metadata": {},
   "outputs": [],
   "source": [
    "## Add attributes and methods "
   ]
  },
  {
   "cell_type": "code",
   "execution_count": 58,
   "id": "8ef1753c",
   "metadata": {},
   "outputs": [],
   "source": [
    "class Account():\n",
    "    \n",
    "    def __init__(self,owner,balance=0):\n",
    "        self.owner=owner\n",
    "        self.balance=balance\n",
    "        print (f\"{self.owner}'s account is created with {self.balance} dollars\")\n",
    "        \n",
    "    def deposit(self,dep_amt):\n",
    "        self.balance+=dep_amt\n",
    "        print(f\"Added {dep_amt} to balance\")\n",
    "        \n",
    "    def withdraw(self,wd_amt):\n",
    "        \n",
    "        if self.balance >= wd_amt:\n",
    "            self.balance = self.balance-wd_amt\n",
    "            print (\"withdraw accepted\")\n",
    "            print (f\"Current balance is {self.balance}\" )\n",
    "        else:\n",
    "            print (\"Unavailable\")\n",
    "    \n",
    "    def __str__ (self):\n",
    "        return f\"Owner is {self.owner} \\nBalance:{self.balance}\"\n",
    "    \n"
   ]
  },
  {
   "cell_type": "code",
   "execution_count": 54,
   "id": "48245ad5",
   "metadata": {},
   "outputs": [
    {
     "name": "stdout",
     "output_type": "stream",
     "text": [
      "KC's account is created with 500 dollars\n"
     ]
    }
   ],
   "source": [
    "a = Account('KC',500)"
   ]
  },
  {
   "cell_type": "code",
   "execution_count": 42,
   "id": "444c9486",
   "metadata": {},
   "outputs": [
    {
     "name": "stdout",
     "output_type": "stream",
     "text": [
      "withdraw accepted\n",
      "Current balance is 450\n"
     ]
    }
   ],
   "source": [
    "a.withdraw(50)"
   ]
  },
  {
   "cell_type": "code",
   "execution_count": 47,
   "id": "ee7464dd",
   "metadata": {},
   "outputs": [
    {
     "data": {
      "text/plain": [
       "'KC'"
      ]
     },
     "execution_count": 47,
     "metadata": {},
     "output_type": "execute_result"
    }
   ],
   "source": [
    "a.owner"
   ]
  },
  {
   "cell_type": "code",
   "execution_count": 55,
   "id": "6abdb3ef",
   "metadata": {},
   "outputs": [
    {
     "name": "stdout",
     "output_type": "stream",
     "text": [
      "Owner is KC \n",
      "Balance:500\n"
     ]
    }
   ],
   "source": [
    "print(a)"
   ]
  },
  {
   "cell_type": "code",
   "execution_count": 59,
   "id": "43aa40bc",
   "metadata": {},
   "outputs": [
    {
     "name": "stdout",
     "output_type": "stream",
     "text": [
      "Unavailable\n"
     ]
    }
   ],
   "source": [
    "a.withdraw(600)"
   ]
  },
  {
   "cell_type": "code",
   "execution_count": 60,
   "id": "c422d59c",
   "metadata": {},
   "outputs": [
    {
     "name": "stdout",
     "output_type": "stream",
     "text": [
      "withdraw accepted\n",
      "Current balance is 100\n"
     ]
    }
   ],
   "source": [
    "a.withdraw(400)"
   ]
  },
  {
   "cell_type": "code",
   "execution_count": 61,
   "id": "a1afde63",
   "metadata": {},
   "outputs": [
    {
     "name": "stdout",
     "output_type": "stream",
     "text": [
      "Owner is KC \n",
      "Balance:100\n"
     ]
    }
   ],
   "source": [
    "print(a)"
   ]
  }
 ],
 "metadata": {
  "kernelspec": {
   "display_name": "Python 3 (ipykernel)",
   "language": "python",
   "name": "python3"
  },
  "language_info": {
   "codemirror_mode": {
    "name": "ipython",
    "version": 3
   },
   "file_extension": ".py",
   "mimetype": "text/x-python",
   "name": "python",
   "nbconvert_exporter": "python",
   "pygments_lexer": "ipython3",
   "version": "3.8.8"
  }
 },
 "nbformat": 4,
 "nbformat_minor": 5
}
